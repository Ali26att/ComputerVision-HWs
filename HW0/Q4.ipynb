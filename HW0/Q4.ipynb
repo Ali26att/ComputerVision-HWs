{
 "cells": [
  {
   "cell_type": "markdown",
   "metadata": {},
   "source": [
    "# Q4"
   ]
  },
  {
   "cell_type": "markdown",
   "metadata": {},
   "source": [
    "## Part A"
   ]
  },
  {
   "cell_type": "code",
   "execution_count": 1,
   "metadata": {},
   "outputs": [],
   "source": [
    "import numpy as np"
   ]
  },
  {
   "cell_type": "code",
   "execution_count": 5,
   "metadata": {},
   "outputs": [
    {
     "name": "stdout",
     "output_type": "stream",
     "text": [
      "[[0.796875 1.796875 2.796875]\n",
      " [4.       5.       6.      ]\n",
      " [7.203125 8.203125 9.203125]]\n"
     ]
    }
   ],
   "source": [
    "\"\"\"\n",
    "Please define the mentioned matrices and the operations\n",
    "\n",
    "consider the bellow links:\n",
    "https://numpy.org/doc/stable/reference/generated/numpy.transpose.html\n",
    "\n",
    "https://numpy.org/doc/stable/reference/generated/numpy.dot.html\n",
    "\n",
    "\"\"\"\n",
    "matrix1 = [[1,2,3],\n",
    "           [4,5,6],\n",
    "           [7,8,9]]\n",
    "matrix2 = [[1],\n",
    "           [-1],\n",
    "           [1]]\n",
    "a = np.transpose(matrix1)\n",
    "b = np.dot(a,matrix1)\n",
    "b = np.linalg.inv(b)\n",
    "b = np.dot(b,a)\n",
    "b = np.dot(b,matrix2)\n",
    "b = b+matrix1\n",
    "print(b)\n",
    "\n"
   ]
  },
  {
   "cell_type": "markdown",
   "metadata": {},
   "source": [
    "## Part B"
   ]
  },
  {
   "cell_type": "code",
   "execution_count": 11,
   "metadata": {},
   "outputs": [],
   "source": [
    "def window_sliding(A, B):\n",
    "\n",
    "  \"\"\"\n",
    "  In this function you should implement the sliding window method\n",
    "\n",
    "  Arguments:\n",
    "    inputs:\n",
    "      A: a matrix of 3*3 order for treating as the window\n",
    "      B: a matrix of 5*5 order for treating as the input matrix\n",
    "    outputs:\n",
    "      res: resulting matrix of the sliding window \n",
    "  \"\"\"\n",
    "  res = np.zeros((3,3))\n",
    "  temp = np.zeros((3,3))\n",
    "  for column in range(3):\n",
    "    for row in range(3):\n",
    "      temp = B[row:row+3,column:column+3]\n",
    "      con_res = np.sum(temp*A)\n",
    "      res[row,column] = con_res\n",
    "\n",
    "  return res"
   ]
  },
  {
   "cell_type": "code",
   "execution_count": 12,
   "metadata": {},
   "outputs": [
    {
     "name": "stdout",
     "output_type": "stream",
     "text": [
      "[[-7. -5. -7.]\n",
      " [-5. -2. -5.]\n",
      " [-7. -5. -7.]]\n"
     ]
    }
   ],
   "source": [
    "A = np.array([\n",
    "    [1,1,1],\n",
    "    [1,-9,1],\n",
    "    [1,1,1]\n",
    "])\n",
    "B = np.array([\n",
    "    [1,1,1,1,1],\n",
    "    [1,2,2,2,1],\n",
    "    [1,2,2,2,1],\n",
    "    [1,2,2,2,1],\n",
    "    [1,1,1,1,1]\n",
    "])\n",
    "print(window_sliding(A, B))"
   ]
  }
 ],
 "metadata": {
  "kernelspec": {
   "display_name": "Python 3",
   "language": "python",
   "name": "python3"
  },
  "language_info": {
   "codemirror_mode": {
    "name": "ipython",
    "version": 3
   },
   "file_extension": ".py",
   "mimetype": "text/x-python",
   "name": "python",
   "nbconvert_exporter": "python",
   "pygments_lexer": "ipython3",
   "version": "3.11.0"
  },
  "orig_nbformat": 4,
  "vscode": {
   "interpreter": {
    "hash": "23d71f16e74f25c6f07be6df3bd12274dc8cfd66015d5779805b57268e4c0fab"
   }
  }
 },
 "nbformat": 4,
 "nbformat_minor": 2
}
