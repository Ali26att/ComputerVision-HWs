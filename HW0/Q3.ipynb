{
  "cells": [
    {
      "attachments": {},
      "cell_type": "markdown",
      "metadata": {
        "id": "P9PoDHBl3QKv"
      },
      "source": [
        "# Q3\n",
        "*Work with Numpy*<br>\n",
        "In this notebook you're going to work with the numpy library to solve the problems<br>\n",
        "Please follow the instructions and hints provided for each cell"
      ]
    },
    {
      "attachments": {},
      "cell_type": "markdown",
      "metadata": {},
      "source": [
        "## Part A"
      ]
    },
    {
      "cell_type": "code",
      "execution_count": 28,
      "metadata": {
        "id": "1ZbZ5H1j5Zhw"
      },
      "outputs": [],
      "source": [
        "import numpy as np"
      ]
    },
    {
      "cell_type": "code",
      "execution_count": 29,
      "metadata": {
        "id": "5nvuXUyB2aLJ"
      },
      "outputs": [],
      "source": [
        "def create_matrix(n):\n",
        "  \"\"\"\n",
        "  In this function you should create matrix in order of n*n with random numbers \n",
        "  in the [n, n+100) interval.\n",
        "\n",
        "  see the bellow link:\n",
        "    https://numpy.org/doc/stable/reference/random/generated/numpy.random.randint.html\n",
        "\n",
        "  Arguments:\n",
        "    inputs:\n",
        "      n: an integer describing the order of the matrix\n",
        "    outputs:\n",
        "      created matrix  \n",
        "  \"\"\"\n",
        "  matrix = np.random.randint(n,n+100, size=(n, n))\n",
        "\n",
        "  return matrix"
      ]
    },
    {
      "cell_type": "code",
      "execution_count": 11,
      "metadata": {
        "id": "1PiKjLsl6KhD"
      },
      "outputs": [
        {
          "name": "stdout",
          "output_type": "stream",
          "text": [
            "[[ 62  98  41 106  55  64  90  91]\n",
            " [ 38  91  47  24  58  95  63  60]\n",
            " [ 57  77  83  13 100  45  17  55]\n",
            " [ 69  35   8  20  52  48  94  39]\n",
            " [ 23  35  82  86  90  67  77  78]\n",
            " [ 99  73  14 101  87  59  64  31]\n",
            " [107  48   9  73  15  82  54  40]\n",
            " [104  53  23  98  44  42  41  64]]\n"
          ]
        }
      ],
      "source": [
        "\"\"\"\n",
        "In this cell you should get the input n and create the matrix by calling the function\n",
        "Then print the matrix\n",
        "\"\"\"\n",
        "n = int(input(\"please enter n: \"))\n",
        "matrix = create_matrix(n)\n",
        "# print matrix\n",
        "print(matrix)"
      ]
    },
    {
      "cell_type": "code",
      "execution_count": 12,
      "metadata": {
        "id": "Cnocq2_56mdx"
      },
      "outputs": [],
      "source": [
        "def count_digits(matrix):\n",
        "  \"\"\"\n",
        "  In this function you should implement a routine to count the digits in the given matrix.\n",
        "\n",
        "  Arguments:\n",
        "    inputs:\n",
        "      matrix: input matrix\n",
        "    outputs:\n",
        "      digits: a dictionary containing digits as its keys and the counted numbers as its value\n",
        "  \"\"\"\n",
        "\n",
        "  digits = {}\n",
        "  for i in range(10):\n",
        "    digits[i] = 0\n",
        "  flat = matrix.flatten()\n",
        "  \n",
        "  for num in flat:\n",
        "    tmp = num \n",
        "    while(tmp > 0):\n",
        "      index = tmp%10\n",
        "      digits[index] += 1\n",
        "      tmp = tmp // 10 \n",
        "  return digits\n"
      ]
    },
    {
      "cell_type": "code",
      "execution_count": 13,
      "metadata": {
        "id": "Aq3mHGcc7f2i"
      },
      "outputs": [
        {
          "name": "stdout",
          "output_type": "stream",
          "text": [
            "{0: 11, 1: 15, 2: 9, 3: 13, 4: 18, 5: 15, 6: 10, 7: 13, 8: 13, 9: 14}\n"
          ]
        }
      ],
      "source": [
        "\"\"\"\n",
        "In this cell call the implemented function and print the result\n",
        "\"\"\"\n",
        "\n",
        "digits = count_digits(matrix)\n",
        "print(digits)"
      ]
    },
    {
      "attachments": {},
      "cell_type": "markdown",
      "metadata": {
        "id": "ALqhYliZ8Ie8"
      },
      "source": [
        "## Part B"
      ]
    },
    {
      "cell_type": "code",
      "execution_count": 26,
      "metadata": {
        "id": "bhTfjtO78LT1"
      },
      "outputs": [],
      "source": [
        "def traverse_matrix(matrix):\n",
        "  \"\"\"\n",
        "  Traverse the input matrix in the given manner then print result\n",
        "\n",
        "  Arguments:\n",
        "    inputs:\n",
        "      matrix: input matrix\n",
        "    outputs\n",
        "  \"\"\"\n",
        "\n",
        "\t#https://www.geeksforgeeks.org/print-matrix-in-zig-zag-fashion/ --helping link\n",
        "\n",
        "  rows,columns= np.shape(matrix)\n",
        "    \n",
        "  solution=[[] for i in range(rows+columns-1)]\n",
        "  \n",
        "  for i in range(rows):\n",
        "      for j in range(columns):\n",
        "          sum=i+j\n",
        "          if(sum%2 ==0):\n",
        "  \n",
        "              #add at beginning\n",
        "              solution[sum].insert(0,matrix[i][j])\n",
        "          else:\n",
        "  \n",
        "              #add at end of the list\n",
        "              solution[sum].append(matrix[i][j])\n",
        "          \n",
        "              \n",
        "  # print the solution as it as\n",
        "  for i in solution:\n",
        "      for j in i:\n",
        "          print(j,end=\" \")\n",
        "\n",
        "\n"
      ]
    },
    {
      "cell_type": "code",
      "execution_count": 30,
      "metadata": {
        "id": "9Imf-wvd8oKL"
      },
      "outputs": [
        {
          "name": "stdout",
          "output_type": "stream",
          "text": [
            "62 98 38 57 91 41 106 47 77 69 23 35 83 24 55 64 58 13 8 35 99 107 73 82 20 100 95 90 91 63 45 52 86 14 48 104 53 9 101 90 48 17 60 55 94 67 87 73 23 98 15 59 77 39 78 64 82 44 42 54 31 40 41 64 "
          ]
        }
      ],
      "source": [
        "traverse_matrix(matrix)\n",
        "#print output"
      ]
    }
  ],
  "metadata": {
    "colab": {
      "provenance": []
    },
    "kernelspec": {
      "display_name": "Python 3",
      "language": "python",
      "name": "python3"
    },
    "language_info": {
      "codemirror_mode": {
        "name": "ipython",
        "version": 3
      },
      "file_extension": ".py",
      "mimetype": "text/x-python",
      "name": "python",
      "nbconvert_exporter": "python",
      "pygments_lexer": "ipython3",
      "version": "3.11.0"
    },
    "vscode": {
      "interpreter": {
        "hash": "23d71f16e74f25c6f07be6df3bd12274dc8cfd66015d5779805b57268e4c0fab"
      }
    }
  },
  "nbformat": 4,
  "nbformat_minor": 0
}
