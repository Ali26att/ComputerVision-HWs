{
  "nbformat": 4,
  "nbformat_minor": 0,
  "metadata": {
    "colab": {
      "provenance": [],
      "gpuType": "T4"
    },
    "kernelspec": {
      "name": "python3",
      "display_name": "Python 3"
    },
    "language_info": {
      "name": "python"
    },
    "gpuClass": "standard"
  },
  "cells": [
    {
      "cell_type": "markdown",
      "source": [
        "In this notebook, our goal is to train a CNN model using the CIFAR-10 image dataset. Additionally, we aim to explore and test various techniques, such as augmentation and transfer learning. To proceed, please follow the outlined steps."
      ],
      "metadata": {
        "id": "iIcTqgL4gn_8"
      }
    },
    {
      "cell_type": "markdown",
      "source": [
        "# Libraries"
      ],
      "metadata": {
        "id": "p2ZCXPm9s2mw"
      }
    },
    {
      "cell_type": "markdown",
      "source": [
        "Here, you can import the libraries you wish to use. Feel free to add more as needed."
      ],
      "metadata": {
        "id": "B1G3qZ1ULWW-"
      }
    },
    {
      "cell_type": "code",
      "execution_count": null,
      "metadata": {
        "id": "wFFhPLzjigyS"
      },
      "outputs": [],
      "source": [
        "import numpy as np\n",
        "from tensorflow import keras\n",
        "import matplotlib.pyplot as plt\n",
        "from keras.datasets import cifar10\n",
        "from tensorflow.keras import layers\n",
        "from tensorflow.keras.utils import to_categorical"
      ]
    },
    {
      "cell_type": "markdown",
      "source": [
        "# Load the CIFAR10 dataset"
      ],
      "metadata": {
        "id": "to7Jthc3s6wQ"
      }
    },
    {
      "cell_type": "markdown",
      "source": [
        "Here, load the CIFAR-10 dataset from the prebuilt datasets in Keras as separate training and validation datasets."
      ],
      "metadata": {
        "id": "Jaw1cgctM-Ns"
      }
    },
    {
      "cell_type": "code",
      "source": [
        "class_names = (\"Airplane\", \"Automobile\", \"Bird\", \"Cat\", \"Deer\",\n",
        "               \"Dog\", \"Frog\", \"Horse\", \"Ship\", \"Truck\")\n",
        "\n",
        "##################################################\n",
        "################### YOUR CODES ###################\n",
        "\n",
        "##################################################\n",
        "\n",
        "print('Training:', x_train.shape, y_train.shape)\n",
        "print('Validation:', x_val.shape, y_val.shape)"
      ],
      "metadata": {
        "id": "3c5TLi8LOoMB"
      },
      "execution_count": null,
      "outputs": []
    },
    {
      "cell_type": "markdown",
      "source": [
        "Let's see some random examples."
      ],
      "metadata": {
        "id": "r_AAzUTeObGW"
      }
    },
    {
      "cell_type": "code",
      "source": [
        "fig = plt.figure(figsize=(8, 3))\n",
        "\n",
        "for class_index in range(len(class_names)):\n",
        "    examples = x_train[y_train.flatten() == class_index]\n",
        "    random_index = np.random.randint(0, examples.shape[0])\n",
        "    image = examples[random_index]\n",
        "\n",
        "    ax = fig.add_subplot(2, 5, class_index + 1)\n",
        "    ax.imshow(image)\n",
        "    ax.set_title(class_names[class_index])\n",
        "    ax.axis('off')\n",
        "\n",
        "plt.tight_layout()\n",
        "plt.show()"
      ],
      "metadata": {
        "id": "wPK5npFpOaVr"
      },
      "execution_count": null,
      "outputs": []
    },
    {
      "cell_type": "markdown",
      "source": [
        "Remember to `normalize` your data and encode your labels using the `one-hot encoding` technique."
      ],
      "metadata": {
        "id": "hpGUtpDDQhgf"
      }
    },
    {
      "cell_type": "code",
      "source": [
        "##################################################\n",
        "################### YOUR CODES ###################\n",
        "\n",
        "##################################################"
      ],
      "metadata": {
        "id": "gmgReTx7wds_"
      },
      "execution_count": null,
      "outputs": []
    },
    {
      "cell_type": "markdown",
      "source": [
        "# a) Simple CNN model\n",
        "In this section, you have to create your own simple CNN model using either the sequential or functional API provided by the Keras library. You can refer to the example provided in this [link](https://keras.io/examples/vision/mnist_convnet/) for guidance. Feel free to design your model according to your preferences."
      ],
      "metadata": {
        "id": "u9BQ5-dstC-O"
      }
    },
    {
      "cell_type": "code",
      "source": [
        "##################################################\n",
        "################### YOUR CODES ###################\n",
        "\n",
        "##################################################\n",
        "\n",
        "model.summary()"
      ],
      "metadata": {
        "id": "jOf1oSxrtO_Q"
      },
      "execution_count": null,
      "outputs": []
    },
    {
      "cell_type": "markdown",
      "source": [
        "Now, it's time to compile your model using an appropriate `loss function` and `optimizer`."
      ],
      "metadata": {
        "id": "TsAigDeZTaA9"
      }
    },
    {
      "cell_type": "code",
      "source": [
        "##################################################\n",
        "################### YOUR CODES ###################\n",
        "model.compile(...................................)\n",
        "##################################################"
      ],
      "metadata": {
        "id": "oecL8Ri4tpHR"
      },
      "execution_count": null,
      "outputs": []
    },
    {
      "cell_type": "markdown",
      "source": [
        "Train your model for `10 epochs` and proper `batch_size`."
      ],
      "metadata": {
        "id": "AoKuAx1xUQIi"
      }
    },
    {
      "cell_type": "code",
      "source": [
        "##################################################\n",
        "################### YOUR CODES ###################\n",
        "history = model.fit(.............................)\n",
        "##################################################"
      ],
      "metadata": {
        "id": "OHtgKKlHv9_X"
      },
      "execution_count": null,
      "outputs": []
    },
    {
      "cell_type": "markdown",
      "source": [
        "This function plots the `loss` and `accuracy` of your model by the model's history."
      ],
      "metadata": {
        "id": "JAv_EABEWDk1"
      }
    },
    {
      "cell_type": "code",
      "source": [
        "def plot_acc_loss(history):\n",
        "    train_acc = history.history['accuracy']\n",
        "    val_acc = history.history['val_accuracy']\n",
        "\n",
        "    train_loss = history.history['loss']\n",
        "    val_loss = history.history['val_loss']\n",
        "\n",
        "    fig = plt.figure(figsize=(10, 3))\n",
        "    fig.add_subplot(1, 2, 1)\n",
        "    plt.plot(train_acc)\n",
        "    plt.plot(val_acc)\n",
        "    plt.title('Accuracy')\n",
        "    plt.ylabel('Accuracy')\n",
        "    plt.xlabel('Epoch')\n",
        "    plt.legend(['train', 'validation'], loc='upper left')\n",
        "\n",
        "    fig.add_subplot(1, 2, 2)\n",
        "    plt.plot(train_loss)\n",
        "    plt.plot(val_loss)\n",
        "    plt.title('Loss')\n",
        "    plt.ylabel('Loss')\n",
        "    plt.xlabel('Epoch')\n",
        "    plt.legend(['train', 'validation'], loc='upper left')"
      ],
      "metadata": {
        "id": "2j6qrJFexklD"
      },
      "execution_count": null,
      "outputs": []
    },
    {
      "cell_type": "markdown",
      "source": [
        "Let's see your model performance."
      ],
      "metadata": {
        "id": "yg4W2He3WZAu"
      }
    },
    {
      "cell_type": "code",
      "source": [
        "plot_acc_loss(history)"
      ],
      "metadata": {
        "id": "MRpHPtUE_KGT"
      },
      "execution_count": null,
      "outputs": []
    },
    {
      "cell_type": "markdown",
      "source": [
        "# b) Simple CNN model + augmentation\n",
        "In this section, you will utilize your previous model and apply `at least two` suitable augmentation techniques. For further guidance, you can refer to this  [link](https://www.tensorflow.org/tutorials/images/data_augmentation)."
      ],
      "metadata": {
        "id": "WJt7s9NxXFeB"
      }
    },
    {
      "cell_type": "code",
      "source": [
        "##################################################\n",
        "################### YOUR CODES ###################\n",
        "\n",
        "##################################################"
      ],
      "metadata": {
        "id": "hWHhb9PM7U_Q"
      },
      "execution_count": null,
      "outputs": []
    },
    {
      "cell_type": "code",
      "source": [
        "##################################################\n",
        "################### YOUR CODES ###################\n",
        "model.compile(...................................)\n",
        "##################################################"
      ],
      "metadata": {
        "id": "l8r2u_Kx8Eyp"
      },
      "execution_count": null,
      "outputs": []
    },
    {
      "cell_type": "code",
      "source": [
        "##################################################\n",
        "################### YOUR CODES ###################\n",
        "history = model.fit(.............................)\n",
        "##################################################"
      ],
      "metadata": {
        "id": "9bsN0iHm-MD8"
      },
      "execution_count": null,
      "outputs": []
    },
    {
      "cell_type": "markdown",
      "source": [
        "Let's see your model performance with augmentation."
      ],
      "metadata": {
        "id": "aZEYLLGjZDRT"
      }
    },
    {
      "cell_type": "code",
      "source": [
        "plot_acc_loss(history)"
      ],
      "metadata": {
        "id": "VDqFrM_L8dGV"
      },
      "execution_count": null,
      "outputs": []
    },
    {
      "cell_type": "markdown",
      "source": [
        "# c) Transfer learning: Using pretrained ResNet50 on ImageNet\n",
        "For more detailed guidance, please refer to this [link](https://keras.io/guides/transfer_learning/)."
      ],
      "metadata": {
        "id": "27LNs_yGS9cE"
      }
    },
    {
      "cell_type": "markdown",
      "source": [
        "## Resize input to 224 * 224 (`extra bonus`)"
      ],
      "metadata": {
        "id": "a-t-JwiXn_ex"
      }
    },
    {
      "cell_type": "code",
      "source": [],
      "metadata": {
        "id": "AvE8GdygZXqz"
      },
      "execution_count": 1,
      "outputs": []
    },
    {
      "cell_type": "markdown",
      "source": [
        "## Use only the first three blocks (`extra bonus`)"
      ],
      "metadata": {
        "id": "wA5TfdqMnod0"
      }
    },
    {
      "cell_type": "code",
      "source": [],
      "metadata": {
        "id": "oa0Q_G-jn8Vv"
      },
      "execution_count": null,
      "outputs": []
    }
  ]
}